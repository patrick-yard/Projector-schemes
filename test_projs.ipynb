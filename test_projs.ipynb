{
 "cells": [
  {
   "cell_type": "code",
   "execution_count": 1,
   "metadata": {},
   "outputs": [],
   "source": [
    "%load_ext autoreload\n",
    "%autoreload 2"
   ]
  },
  {
   "cell_type": "code",
   "execution_count": 173,
   "metadata": {},
   "outputs": [],
   "source": [
    "import numpy as np\n",
    "import proj_funcs as pr\n",
    "import pandas as pd\n",
    "from constructor import Constructor\n",
    "from optimiser import cost_func,gen_U_from_param_array,fidelity\n",
    "import random\n",
    "from scipy.optimize import minimize\n",
    "from scipy.stats import unitary_group"
   ]
  },
  {
   "cell_type": "code",
   "execution_count": 15,
   "metadata": {},
   "outputs": [],
   "source": [
    "dim = 2\n",
    "\n",
    "gm_matrices = pr.get_gellmann_matrices(dim)\n",
    "\n",
    "bases = pr.get_bases_from_matrices(gm_matrices)\n",
    "evs = pr.get_eigenvalues_from_matrices(gm_matrices)\n"
   ]
  },
  {
   "cell_type": "code",
   "execution_count": 81,
   "metadata": {},
   "outputs": [
    {
     "name": "stdout",
     "output_type": "stream",
     "text": [
      "[1.0, -1.0]\n",
      "          0         1\n",
      "0  0.707107  0.707107\n",
      "1 -0.707107  0.707107\n",
      "                    0                   1\n",
      "0  0.707107+0.000000j  0.707107+0.000000j\n",
      "1 -0.707107+0.000000j  0.707107+0.000000j\n",
      "[[-2.23711432e-17+0.j  1.00000000e+00+0.j]\n",
      " [-1.00000000e+00+0.j  2.23711432e-17+0.j]]\n"
     ]
    }
   ],
   "source": [
    "\n",
    "basis = np.array(bases[2])\n",
    "print(evs[2])\n",
    "print(pd.DataFrame(basis))\n",
    "\n",
    "proj = pr.construct_projector(basis)\n",
    "print(pd.DataFrame(proj))\n",
    "\n",
    "output = proj @ basis\n",
    "\n",
    "print(output)\n",
    "\n"
   ]
  },
  {
   "cell_type": "code",
   "execution_count": 90,
   "metadata": {},
   "outputs": [
    {
     "name": "stdout",
     "output_type": "stream",
     "text": [
      "(array([[0],\n",
      "       [1]]), array([[0, 1]]))\n",
      "[[ 0.70710678+0.j  0.70710678+0.j  0.        +0.j  0.        +0.j]\n",
      " [ 0.70710678+0.j -0.70710678+0.j  0.        +0.j  0.        +0.j]\n",
      " [ 0.        +0.j  0.        +0.j  1.        +0.j  0.        +0.j]\n",
      " [ 0.        +0.j  0.        +0.j  0.        +0.j  1.        +0.j]]\n",
      "(array([[0],\n",
      "       [1]]), array([[0, 1]]))\n",
      "[[-1.+1.2246468e-16j  0.+0.0000000e+00j  0.+0.0000000e+00j\n",
      "   0.+0.0000000e+00j]\n",
      " [ 0.+0.0000000e+00j  1.+0.0000000e+00j  0.+0.0000000e+00j\n",
      "   0.+0.0000000e+00j]\n",
      " [ 0.+0.0000000e+00j  0.+0.0000000e+00j  1.+0.0000000e+00j\n",
      "   0.+0.0000000e+00j]\n",
      " [ 0.+0.0000000e+00j  0.+0.0000000e+00j  0.+0.0000000e+00j\n",
      "   1.+0.0000000e+00j]]\n"
     ]
    }
   ],
   "source": [
    "eta = 1/2\n",
    "phase = np.pi\n",
    "BS = ct.BeamSplitter(1,4,eta)\n",
    "PS = ct.PhaseShifter(1,4,phase)\n",
    "# print\n",
    "print(BS.global_U())\n",
    "print(PS.global_U())"
   ]
  },
  {
   "cell_type": "markdown",
   "metadata": {},
   "source": [
    "# Test constructor class"
   ]
  },
  {
   "cell_type": "markdown",
   "metadata": {},
   "source": [
    "To test the constructor class and optimiser we will construct a 4-D clements scheme and use an optimiser to find phases."
   ]
  },
  {
   "cell_type": "code",
   "execution_count": 170,
   "metadata": {},
   "outputs": [
    {
     "name": "stdout",
     "output_type": "stream",
     "text": [
      "[6.1633911445272025, 6.173478134500623, 0.530324510735575, 1.3398742956075111, 1.1602477049574473, 1.6847155903888906, 0.00028749151186628126, 0.04980491568452529, 2.0127190497571057, 3.1291082260806724, 5.535195408561557, 1.8306920601223409, 2.635617035895119, 2.4205559389083944, 4.978757173599384, 1.2231614579711263]\n"
     ]
    }
   ],
   "source": [
    "dim = 4\n",
    "U = np.eye(dim)\n",
    "U=unitary_group.rvs(dim)\n",
    "\n",
    "pattern = [0,2,1,0,2,1]\n",
    "\n",
    "phase_guess = [2*np.pi*random.uniform(0,1) for i in range(dim)]\n",
    "\n",
    "main_guess = [np.pi*random.uniform(0,1) if i%2 else 2*np.pi*random.uniform(0,1) for i in range(2*len(pattern))]\n",
    "\n",
    "initial_guess = phase_guess + main_guess\n",
    "print(initial_guess)\n",
    "args = (dim,U,pattern,None)\n",
    "\n",
    "\n",
    "res = minimize(cost_func,x0=initial_guess,args =args,method='BFGS')\n",
    "\n"
   ]
  },
  {
   "cell_type": "code",
   "execution_count": 177,
   "metadata": {},
   "outputs": [
    {
     "name": "stdout",
     "output_type": "stream",
     "text": [
      "Fidelity = 0.9999999999743275 ± 1.5561688251576005e-11\n",
      "Cost func = 3.0806919886258696e-10 ± 1.8674042873580058e-10\n"
     ]
    }
   ],
   "source": [
    "'''Test many random matrices'''\n",
    "\n",
    "dim = 6\n",
    "pattern = [0,2,1,0,2,1] #  4 mode ideal clements\n",
    "pattern = [0,2,4,3,1,0,2,4,3,1,0,2,4,3,1] #  6 mode ideal clements\n",
    "\n",
    "num_steps = 10\n",
    "\n",
    "cf_array = []\n",
    "fid_array = []\n",
    "\n",
    "for i in range(num_steps):\n",
    "\n",
    "    print(f'{i+1}/{num_steps}',end = '\\r')\n",
    "\n",
    "    phase_guess = [2*np.pi*random.uniform(0,1) for i in range(dim)]\n",
    "\n",
    "    main_guess = [np.pi*random.uniform(0,1) if i%2 else 2*np.pi*random.uniform(0,1) for i in range(2*len(pattern))]\n",
    "\n",
    "    initial_guess = phase_guess + main_guess\n",
    "\n",
    "    U=unitary_group.rvs(dim)\n",
    "\n",
    "    args = (dim,U,pattern,None)\n",
    "\n",
    "    res = minimize(cost_func,x0=initial_guess,args =args,method='BFGS')\n",
    "\n",
    "    cf = cost_func(res.x,*args)\n",
    "\n",
    "    U_opt = gen_U_from_param_array(res.x,dim,pattern,None)\n",
    "\n",
    "    fid = fidelity(U_opt,U)\n",
    "\n",
    "    fid_array.append(fid)\n",
    "\n",
    "    cf_array.append(cf)\n",
    "\n",
    "print(f'Fidelity = {np.mean(fid_array)} ± {np.std(fid_array)}')\n",
    "print(f'Cost func = {np.mean(cf_array)} ± {np.std(cf_array)}')\n",
    "\n"
   ]
  },
  {
   "cell_type": "code",
   "execution_count": 147,
   "metadata": {},
   "outputs": [
    {
     "data": {
      "text/plain": [
       "True"
      ]
     },
     "execution_count": 147,
     "metadata": {},
     "output_type": "execute_result"
    }
   ],
   "source": []
  },
  {
   "cell_type": "code",
   "execution_count": null,
   "metadata": {},
   "outputs": [],
   "source": []
  }
 ],
 "metadata": {
  "interpreter": {
   "hash": "241de856f92146b08ea7ac0ed76f804c17fa5258aee6ec6d6d814df6e7318e03"
  },
  "kernelspec": {
   "display_name": "Python 3.7.6 ('base')",
   "language": "python",
   "name": "python3"
  },
  "language_info": {
   "codemirror_mode": {
    "name": "ipython",
    "version": 3
   },
   "file_extension": ".py",
   "mimetype": "text/x-python",
   "name": "python",
   "nbconvert_exporter": "python",
   "pygments_lexer": "ipython3",
   "version": "3.7.6"
  },
  "orig_nbformat": 4
 },
 "nbformat": 4,
 "nbformat_minor": 2
}
