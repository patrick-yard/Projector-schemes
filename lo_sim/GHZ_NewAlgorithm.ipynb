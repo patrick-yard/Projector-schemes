{
 "cells": [
  {
   "cell_type": "code",
   "execution_count": 1,
   "metadata": {},
   "outputs": [],
   "source": [
    "## written by Stefano Paesani"
   ]
  },
  {
   "cell_type": "code",
   "execution_count": 2,
   "metadata": {},
   "outputs": [],
   "source": [
    "from itertools import combinations, combinations_with_replacement, product, count, filterfalse\n",
    "\n",
    "from more_itertools import locate\n",
    "import numpy as np"
   ]
  },
  {
   "cell_type": "markdown",
   "metadata": {},
   "source": [
    "# Define some useful functions"
   ]
  },
  {
   "cell_type": "code",
   "execution_count": 3,
   "metadata": {},
   "outputs": [],
   "source": [
    "def all_sums(all_elems, n):\n",
    "    # generates all partitions of elems in sets with k elements, removing duplicates due to reordering\n",
    "    all_combs = combinations_with_replacement(all_elems, n)\n",
    "    all_combs = map(lambda x: tuple(sorted(x)), all_combs)\n",
    "    all_combs = list(set(all_combs))\n",
    "    return list(map(sum, all_combs)), all_combs\n",
    "\n",
    "def equal_k_partitions(elems, k):\n",
    "    # generates all partitions of elems in subsets with k elements, removing duplicates due to reordering\n",
    "    l_el = len(elems)\n",
    "    if l_el%k != 0:\n",
    "        raise ValueError('Length of elems needs to be a multiple of k')\n",
    "        \n",
    "    if l_el>0:\n",
    "        temp_list = []\n",
    "        min_elem = min(elems)\n",
    "        min_elem_ix = np.argmin(elems)\n",
    "        elems_not_min = np.delete(elems, min_elem_ix)\n",
    "        \n",
    "        for this_temp_chunk in combinations(elems_not_min, k-1):\n",
    "            this_chunk = tuple(np.append(min_elem, this_temp_chunk))\n",
    "#             print('chunk:',this_chunk)\n",
    "            for this_part in equal_k_partitions(np.setdiff1d(elems_not_min, this_temp_chunk), k):\n",
    "#                 print('part:', this_part)\n",
    "                temp_list.append([this_chunk]+ this_part)\n",
    "        return temp_list\n",
    "            \n",
    "    else:\n",
    "        return [[]]"
   ]
  },
  {
   "cell_type": "markdown",
   "metadata": {},
   "source": [
    "# GHZ near-optimal solution  algorithm"
   ]
  },
  {
   "cell_type": "code",
   "execution_count": 4,
   "metadata": {},
   "outputs": [
    {
     "name": "stdout",
     "output_type": "stream",
     "text": [
      "[1, 2, 4]\n",
      "[1, 2, 4, 8]\n",
      "[1, 2, 4, 8, 13]\n",
      "[1, 2, 4, 8, 13, 21]\n",
      "[1, 2, 4, 8, 13, 21, 31]\n",
      "[1, 2, 4, 8, 13, 21, 31, 45]\n",
      "Done m= 46  fail: no valid config found for GHZ scheme\n",
      "Done m= 47  fail: no valid config found for GHZ scheme\n",
      "Done m= 48  fail: no valid config found for GHZ scheme\n",
      "Done m= 49  fail: no valid config found for GHZ scheme\n",
      "Done m= 50  fail: no valid config found for GHZ scheme\n",
      "Done m= 51  fail: no valid config found for GHZ scheme\n",
      "Done m= 52  fail: no valid config found for GHZ scheme\n",
      "Done m= 53  fail: no valid config found for GHZ scheme\n",
      "Done m= 54  fail: no valid config found for GHZ scheme\n",
      "Done m= 55  fail: no valid config found for GHZ scheme\n",
      "Done m= 56  fail: no valid config found for GHZ scheme\n",
      "Done m= 57  fail: no valid config found for GHZ scheme\n",
      "CORRECT GHZ! Obtained  4 states:\n",
      "beta_chi [(1, 2, 55), (5, 8, 45), (4, 13, 41), (6, 21, 31)]\n",
      "chi: [1, 2, 4, 5, 6, 8, 13, 21, 31, 41, 45, 55]\n",
      "SUCCEDED WITH m= 58\n"
     ]
    }
   ],
   "source": [
    "\"\"\"\n",
    "Algorithm that searches for a solution to the high-d GHZ generation scheme with N photons and dimension dim.\n",
    "\"\"\"\n",
    "\n",
    "N=3    # number of photons\n",
    "dim=4  # dimensionality \n",
    "\n",
    "\n",
    "\n",
    "\n",
    "#####################################################################################################\n",
    "### STEP 1: \n",
    "### Find set of (N-1)*dim positive integers such that all subsets of N-1 elements have different sums\n",
    "#####################################################################################################\n",
    "\n",
    "# this code is optimal in the sense that max(of the set) is minimal.\n",
    "\n",
    "n=N-1\n",
    "start_list = list(range(1, n+1))\n",
    "\n",
    "#initialise mode_list and part_sums\n",
    "modes_list = start_list\n",
    "part_sums = [list(set(all_sums(modes_list, i)[0])) for i in range(n+1)]\n",
    "\n",
    "for step in range((N-1)*dim - n):\n",
    "    #pick new element in list\n",
    "    n_subsets_sum = part_sums[n]\n",
    "    n1_subsets_sum = part_sums[n-1]\n",
    "\n",
    "    differences = map(lambda x: x[0] - x[1], product(n_subsets_sum, n1_subsets_sum))\n",
    "    #finds the minimum positive integer not in differences\n",
    "    abar = next(filterfalse(set(differences).__contains__, count(1)))\n",
    "\n",
    "    # update part_sums with new element abar, and add abar to the list\n",
    "    for i in range(1, n+1):\n",
    "        part_sums[i] = list(set(part_sums[i] + [this_sum + abar for this_sum in part_sums[i-1]]))\n",
    "\n",
    "    modes_list.append(abar)\n",
    "    \n",
    "    print(modes_list)\n",
    "\n",
    "    \n",
    "#####################################################################################################\n",
    "### STEP 2: \n",
    "### Search for the smaller m to complement the obtained set with dim modes,\n",
    "### finally obtained a valid list of N*dim modes and test if it provides a correct solution.\n",
    "#####################################################################################################    \n",
    "    \n",
    "#### search is performed by scanning over a range of values for m, starting from smaller ms first.\n",
    "\n",
    "all_parts = equal_k_partitions(modes_list, N-1)\n",
    "all_parts_sums = [list(map(sum, part)) for part in all_parts]\n",
    "\n",
    "min_m = max(modes_list)+1\n",
    "max_m =min_m+4000\n",
    "\n",
    "for m in range(min_m, max_m+1):\n",
    "    all_modes_tests = [modes_list + [m - this_sum for this_sum in this_part_sums] for this_part_sums in all_parts_sums]\n",
    "\n",
    "    valid_modes_tests = []\n",
    "    for sum_list in all_parts_sums:\n",
    "        new_test_elems = [m - this_sum for this_sum in sum_list]\n",
    "    #     print('new elems:',new_test_elems, 'init elems: ', modes_list)\n",
    "    #     print('    tests:', min(new_test_elems)>0, not (set(modes_list) & set(new_test_elems)))\n",
    "        if min(new_test_elems)>0 and not (set(modes_list) & set(new_test_elems)):\n",
    "            valid_modes_tests.append(modes_list+new_test_elems)\n",
    "\n",
    "\n",
    "    ##### check whether the scheme works\n",
    "    test_check = False\n",
    "    for all_elems in valid_modes_tests:\n",
    "        if not test_check:\n",
    "            all_sums_found, all_combs_found = all_sums(all_elems, N)\n",
    "\n",
    "            allowed_combs = [all_combs_found[i] for i in list(locate(all_sums_found, lambda a: a == m))]\n",
    "            if len(allowed_combs)==dim:\n",
    "                print('CORRECT GHZ! Obtained ',len(allowed_combs),'states:')\n",
    "                print('beta_chi',allowed_combs)\n",
    "                all_elems.sort()\n",
    "                print('chi:',all_elems)\n",
    "                test_check = True\n",
    "    if not test_check:\n",
    "        print('Done m=',m,' fail: no valid config found for GHZ scheme')\n",
    "    else: \n",
    "        print('SUCCEDED WITH m=',m)\n",
    "        break"
   ]
  },
  {
   "cell_type": "markdown",
   "metadata": {},
   "source": [
    "# Some solutions found"
   ]
  },
  {
   "cell_type": "code",
   "execution_count": 5,
   "metadata": {},
   "outputs": [
    {
     "data": {
      "text/plain": [
       "'\\n#####################################################\\n##################    N=3    ######################## \\n#####################################################\\n\\n(N, d) = (3, 2)\\nm = 15\\nchi = [1, 2, 3, 4, 8, 12]\\nbeta_chi = [(1, 2, 12), (3, 4, 8)]\\n\\n(N, d) = (3, 3)\\nm = 32\\nchi = [1, 2, 4, 7, 8, 11, 13, 21, 29]\\nbeta_chi = [(8, 11, 13), (4, 7, 21), (1, 2, 29)]\\n\\n(N, d) = (3, 4)\\nm = 58\\nchi = [1, 2, 4, 5, 6, 8, 13, 21, 31, 41, 45, 55]\\nbeta_chi = [(1, 2, 55), (5, 8, 45), (4, 13, 41), (6, 21, 31)]\\n\\n(N, d) = (3, 5)\\nm = 109\\nchi = [1, 2, 4, 7, 8, 13, 21, 30, 31, 33, 45, 66, 81, 97, 106]\\nbeta_chi = [(4, 8, 97), (31, 33, 45), (1, 2, 106), (7, 21, 81), (13, 30, 66)]\\n\\n(N, d) = (3, 6)\\nm = 154\\nchi = [1, 2, 4, 7, 8, 13, 18, 21, 26, 31, 45, 66, 81, 88, 97, 123, 142, 151]\\nbeta_chi = [(7, 66, 81), (4, 8, 142), (26, 31, 97), (21, 45, 88), (1, 2, 151), (13, 18, 123)]\\n\\n(N, d) = (3, 7)\\nm = 219\\nchi = [1, 2, 4, 5, 8, 13, 15, 16, 21, 31, 45, 66, 77, 81, 97, 123, 148, 175, 182, 207, 216]\\nbeta_chi = [(5, 66, 148), (13, 31, 175), (45, 77, 97), (4, 8, 207), (16, 21, 182), (1, 2, 216), (15, 81, 123)]\\n\\n\\n(N, d) = (3, 8)\\nm = 263\\nchi = [1, 2, 3, 4, 8, 13, 21, 28, 31, 34, 36, 43, 45, 66, 81, 97, 123, 148, 176, 182, 204, 246, 252, 260]\\nbeta_chi = [(34, 81, 148), (43, 97, 123), (21, 66, 176), (3, 8, 252), (28, 31, 204), (1, 2, 260), (4, 13, 246), (36, 45, 182)]\\n\\n\\n#####################################################\\n##################    N=4    ######################## \\n#####################################################\\n\\n(N, d) = (4, 2)\\nm = 69\\nchi = [1, 2, 3, 4, 8, 23, 43, 54]\\nbeta_chi = [(1, 2, 23, 43), (3, 4, 8, 54)]\\n\\n(N, d) = (4, 3)\\nm = 292\\nchi = [1, 2, 3, 4, 8, 23, 51, 54, 88, 164, 201, 277]\\nbeta_chi = [(23, 51, 54, 164), (3, 4, 8, 277), (1, 2, 88, 201)]\\n\\n(N, d) = (4, 4)\\nm = 1030\\nchi = [1, 2, 3, 4, 8, 23, 54, 88, 133, 164, 277, 279, 456, 609, 1004, 1015]\\nbeta_chi = [(3, 4, 8, 1015), (133, 164, 277, 456), (54, 88, 279, 609), (1, 2, 23, 1004)]\\n\\n\\n#####################################################\\n##################    N=5    ######################## \\n#####################################################\\n\\n(N, d) = (5, 2)\\nm = 391\\nchi = [1, 2, 3, 4, 14, 20, 54, 138, 196, 350]\\nbeta_chi = [(1, 2, 54, 138, 196), (3, 4, 14, 20, 350)]\\n\\n(N, d) = (5, 3)\\nm = 5920\\nchi = [1, 2, 3, 4, 14, 20, 54, 138, 209, 350, 815, 1781, 2977, 5509, 5883]\\nbeta_chi = [(1, 2, 14, 20, 5883), (3, 4, 54, 350, 5509), (138, 209, 815, 1781, 2977)]\\n\\n\\n'"
      ]
     },
     "execution_count": 5,
     "metadata": {},
     "output_type": "execute_result"
    }
   ],
   "source": [
    "\"\"\"\n",
    "#####################################################\n",
    "##################    N=3    ######################## \n",
    "#####################################################\n",
    "\n",
    "(N, d) = (3, 2)\n",
    "m = 15\n",
    "chi = [1, 2, 3, 4, 8, 12]\n",
    "beta_chi = [(1, 2, 12), (3, 4, 8)]\n",
    "\n",
    "(N, d) = (3, 3)\n",
    "m = 32\n",
    "chi = [1, 2, 4, 7, 8, 11, 13, 21, 29]\n",
    "beta_chi = [(8, 11, 13), (4, 7, 21), (1, 2, 29)]\n",
    "\n",
    "(N, d) = (3, 4)\n",
    "m = 58\n",
    "chi = [1, 2, 4, 5, 6, 8, 13, 21, 31, 41, 45, 55]\n",
    "beta_chi = [(1, 2, 55), (5, 8, 45), (4, 13, 41), (6, 21, 31)]\n",
    "\n",
    "(N, d) = (3, 5)\n",
    "m = 109\n",
    "chi = [1, 2, 4, 7, 8, 13, 21, 30, 31, 33, 45, 66, 81, 97, 106]\n",
    "beta_chi = [(4, 8, 97), (31, 33, 45), (1, 2, 106), (7, 21, 81), (13, 30, 66)]\n",
    "\n",
    "(N, d) = (3, 6)\n",
    "m = 154\n",
    "chi = [1, 2, 4, 7, 8, 13, 18, 21, 26, 31, 45, 66, 81, 88, 97, 123, 142, 151]\n",
    "beta_chi = [(7, 66, 81), (4, 8, 142), (26, 31, 97), (21, 45, 88), (1, 2, 151), (13, 18, 123)]\n",
    "\n",
    "(N, d) = (3, 7)\n",
    "m = 219\n",
    "chi = [1, 2, 4, 5, 8, 13, 15, 16, 21, 31, 45, 66, 77, 81, 97, 123, 148, 175, 182, 207, 216]\n",
    "beta_chi = [(5, 66, 148), (13, 31, 175), (45, 77, 97), (4, 8, 207), (16, 21, 182), (1, 2, 216), (15, 81, 123)]\n",
    "\n",
    "\n",
    "(N, d) = (3, 8)\n",
    "m = 263\n",
    "chi = [1, 2, 3, 4, 8, 13, 21, 28, 31, 34, 36, 43, 45, 66, 81, 97, 123, 148, 176, 182, 204, 246, 252, 260]\n",
    "beta_chi = [(34, 81, 148), (43, 97, 123), (21, 66, 176), (3, 8, 252), (28, 31, 204), (1, 2, 260), (4, 13, 246), (36, 45, 182)]\n",
    "\n",
    "\n",
    "#####################################################\n",
    "##################    N=4    ######################## \n",
    "#####################################################\n",
    "\n",
    "(N, d) = (4, 2)\n",
    "m = 69\n",
    "chi = [1, 2, 3, 4, 8, 23, 43, 54]\n",
    "beta_chi = [(1, 2, 23, 43), (3, 4, 8, 54)]\n",
    "\n",
    "(N, d) = (4, 3)\n",
    "m = 292\n",
    "chi = [1, 2, 3, 4, 8, 23, 51, 54, 88, 164, 201, 277]\n",
    "beta_chi = [(23, 51, 54, 164), (3, 4, 8, 277), (1, 2, 88, 201)]\n",
    "\n",
    "(N, d) = (4, 4)\n",
    "m = 1030\n",
    "chi = [1, 2, 3, 4, 8, 23, 54, 88, 133, 164, 277, 279, 456, 609, 1004, 1015]\n",
    "beta_chi = [(3, 4, 8, 1015), (133, 164, 277, 456), (54, 88, 279, 609), (1, 2, 23, 1004)]\n",
    "\n",
    "\n",
    "#####################################################\n",
    "##################    N=5    ######################## \n",
    "#####################################################\n",
    "\n",
    "(N, d) = (5, 2)\n",
    "m = 391\n",
    "chi = [1, 2, 3, 4, 14, 20, 54, 138, 196, 350]\n",
    "beta_chi = [(1, 2, 54, 138, 196), (3, 4, 14, 20, 350)]\n",
    "\n",
    "(N, d) = (5, 3)\n",
    "m = 5920\n",
    "chi = [1, 2, 3, 4, 14, 20, 54, 138, 209, 350, 815, 1781, 2977, 5509, 5883]\n",
    "beta_chi = [(1, 2, 14, 20, 5883), (3, 4, 54, 350, 5509), (138, 209, 815, 1781, 2977)]\n",
    "\n",
    "\n",
    "\"\"\""
   ]
  },
  {
   "cell_type": "code",
   "execution_count": 6,
   "metadata": {},
   "outputs": [
    {
     "data": {
      "image/png": "[encoded data removed]",
      "text/plain": [
       "<Figure size 432x288 with 1 Axes>"
      ]
     },
     "metadata": {
      "needs_background": "light"
     },
     "output_type": "display_data"
    }
   ],
   "source": [
    "import matplotlib.pyplot as plt\n",
    "\n",
    "# [[N, d, m], ...]\n",
    "m_list = [[3, 2, 15], [3, 3, 32], [3, 4, 58], [3, 5, 109], [3, 6, 154], [3, 7, 219], [3, 8, 263],\n",
    "          [4, 2, 69], [4, 3, 292], [4, 4, 1030], \n",
    "          [5, 2, 391], [5, 3, 5920],\n",
    "         ]\n",
    "\n",
    "m_list_N3 = np.array([this_res[1:] for this_res in m_list if this_res[0]==3])\n",
    "m_list_N4 = np.array([this_res[1:] for this_res in m_list if this_res[0]==4])\n",
    "m_list_N5 = np.array([this_res[1:] for this_res in m_list if this_res[0]==5])\n",
    "\n",
    "def gen_m(N, d):\n",
    "    return ((N**(N*d)) - 1)/((N**d) -1)\n",
    "\n",
    "# fits \n",
    "fit_N3 = np.polyfit(np.log(m_list_N3.T[0]), np.log(m_list_N3.T[1]),1)\n",
    "p_N3 = np.poly1d(fit_N3) \n",
    "fit_N4 = np.polyfit(np.log(m_list_N4.T[0]), np.log(m_list_N4.T[1]),1)\n",
    "p_N4 = np.poly1d(fit_N4) \n",
    "fit_N5 = np.polyfit(np.log(m_list_N5.T[0]), np.log(m_list_N5.T[1]),1)\n",
    "p_N5 = np.poly1d(fit_N5) \n",
    "\n",
    "plt.plot(m_list_N3.T[0],m_list_N3.T[1], 'k', alpha=0.5, label='N=3')\n",
    "plt.plot(m_list_N4.T[0],m_list_N4.T[1], 'r', alpha=0.5, label='N=4')\n",
    "plt.plot(m_list_N5.T[0],m_list_N5.T[1], 'b', alpha=0.5, label='N=5')\n",
    "plt.plot(m_list_N3.T[0],np.exp(p_N3(np.log(m_list_N3.T[0]))), 'k--', label=r'N=3 - Fit ($\\alpha =%.1f$)' % fit_N3[0])\n",
    "plt.plot(m_list_N4.T[0],np.exp(p_N4(np.log(m_list_N4.T[0]))), 'r--', label=r'N=4 - Fit ($\\alpha =%.1f$)' % fit_N4[0])\n",
    "plt.plot(m_list_N5.T[0],np.exp(p_N5(np.log(m_list_N5.T[0]))), 'b--', label=r'N=5 - Fit ($\\alpha =%.1f$)' % fit_N5[0])\n",
    "\n",
    "\n",
    "\n",
    "\n",
    "# plt.plot(m_list_N3.T[0],[gen_m(3, i) for i in map(int,m_list_N3.T[0])], 'k:')\n",
    "# plt.plot(m_list_N4.T[0],[gen_m(4, i) for i in map(int,m_list_N4.T[0])], 'r:')\n",
    "# plt.plot(m_list_N5.T[0],[gen_m(5, i) for i in map(int,m_list_N5.T[0])], 'b:')\n",
    "\n",
    "\n",
    "plt.yscale('log')\n",
    "# plt.xscale('log')\n",
    "plt.xlabel(r'Dimension $d$')\n",
    "plt.ylabel(r'Number of modes/input-photons $m$')\n",
    "plt.legend(title=r'Number of qudits in GHZ', ncol=2)\n",
    "# plt.savefig('GHZ_NewAlgorithm.png', dpi=300)\n",
    "plt.show()"
   ]
  },
  {
   "cell_type": "code",
   "execution_count": 7,
   "metadata": {},
   "outputs": [
    {
     "data": {
      "text/plain": [
       "[<matplotlib.lines.Line2D at 0x2aef76ef828>]"
      ]
     },
     "execution_count": 7,
     "metadata": {},
     "output_type": "execute_result"
    },
    {
     "data": {
      "image/png": "[encoded data removed]",
      "text/plain": [
       "<Figure size 432x288 with 1 Axes>"
      ]
     },
     "metadata": {
      "needs_background": "light"
     },
     "output_type": "display_data"
    }
   ],
   "source": [
    "dim_list = [2, 3, 4 ,5]\n",
    "GHZscheme_exponents = [1, fit_N3[0], fit_N4[0], fit_N5[0]]\n",
    "\n",
    "plt.plot(dim_list, GHZscheme_exponents, 'k.')"
   ]
  },
  {
   "cell_type": "code",
   "execution_count": null,
   "metadata": {},
   "outputs": [],
   "source": []
  },
  {
   "cell_type": "code",
   "execution_count": null,
   "metadata": {},
   "outputs": [],
   "source": []
  }
 ],
 "metadata": {
  "kernelspec": {
   "display_name": "Python 3",
   "language": "python",
   "name": "python3"
  },
  "language_info": {
   "codemirror_mode": {
    "name": "ipython",
    "version": 3
   },
   "file_extension": ".py",
   "mimetype": "text/x-python",
   "name": "python",
   "nbconvert_exporter": "python",
   "pygments_lexer": "ipython3",
   "version": "3.7.3"
  }
 },
 "nbformat": 4,
 "nbformat_minor": 2
}
