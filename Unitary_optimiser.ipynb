{
 "cells": [
  {
   "attachments": {},
   "cell_type": "markdown",
   "metadata": {},
   "source": [
    "# Unitary optimiser"
   ]
  },
  {
   "attachments": {},
   "cell_type": "markdown",
   "metadata": {},
   "source": [
    "This notebook contains code to take a unitary and specific interferommeter and finds the phase list of the closest unitary that the interferometer can reach."
   ]
  },
  {
   "cell_type": "code",
   "execution_count": null,
   "metadata": {},
   "outputs": [],
   "source": [
    "%load_ext autoreload\n",
    "%autoreload 2"
   ]
  },
  {
   "cell_type": "code",
   "execution_count": 22,
   "metadata": {},
   "outputs": [],
   "source": [
    "import numpy as np\n",
    "import strawberryfields as sf\n",
    "import random\n",
    "from scipy.linalg import block_diag\n",
    "from scipy.optimize import minimize"
   ]
  },
  {
   "attachments": {},
   "cell_type": "markdown",
   "metadata": {},
   "source": [
    "# Construct interferometer"
   ]
  },
  {
   "attachments": {},
   "cell_type": "markdown",
   "metadata": {},
   "source": [
    "First construct interferometer"
   ]
  },
  {
   "cell_type": "code",
   "execution_count": 34,
   "metadata": {},
   "outputs": [],
   "source": [
    "\n",
    "def clements_4_mode(component_params):\n",
    "    ''' \n",
    "    args:\n",
    "        * component_params \n",
    "            - list of all parameters for a 4 mode clements scheme\n",
    "            - component_params[0:4] - Phases\n",
    "            - component_params[4:21] - BS parameters in pairs\n",
    "\n",
    "    returns:\n",
    "        * U - compiled unitary implemented\n",
    "\n",
    "    '''\n",
    "    phases = component_params[0:4]\n",
    "    BS_params = component_params[4:]\n",
    "    \n",
    "    Uphase = np.diag([np.exp(phases[0]*1j),np.exp(phases[1]*1j),np.exp(phases[2]*1j),np.exp(phases[3]*1j)])\n",
    "    BSargs = [\n",
    "        (BS_params[0], BS_params[1]),\n",
    "        (BS_params[2], BS_params[3]),\n",
    "        (BS_params[4], BS_params[5]),\n",
    "        (BS_params[6], BS_params[7]),\n",
    "        (BS_params[8], BS_params[9]),\n",
    "        (BS_params[10], BS_params[11])\n",
    "    ]\n",
    "    \n",
    "    BSunitaries = [np.array([[np.exp(p*1j)*np.sin(q/2), np.cos(q/2)], [np.exp(p*1j)*np.cos(q/2), -np.sin(q/2)]]) for q,p in BSargs] #Universal arrangment\n",
    "\n",
    "    UBS1 = block_diag(*BSunitaries[0:2])\n",
    "    UBS2 = block_diag([[1]], BSunitaries[2], [[1]])\n",
    "    UBS3 = block_diag(*BSunitaries[3:5])\n",
    "    UBS4 = block_diag([[1]], BSunitaries[5], [[1]])\n",
    "\n",
    "\n",
    "    return Uphase @ UBS4 @ UBS3 @ UBS2 @ UBS1\n",
    "\n",
    "\n"
   ]
  },
  {
   "attachments": {},
   "cell_type": "markdown",
   "metadata": {},
   "source": [
    "# Define optimsier functions"
   ]
  },
  {
   "cell_type": "code",
   "execution_count": null,
   "metadata": {},
   "outputs": [],
   "source": [
    "def cost_func(test_params,targe_U):\n",
    "\n",
    "\n",
    "    W = clements_4_mode(test_params)\n",
    "    U = targe_U\n",
    "\n",
    "\n",
    "    return np.sum(abs(W-U)**2)\n",
    "\n",
    "def fidelity(U_opt,U):\n",
    "    return np.real(np.matrix.trace(U_opt.conj().T @ U)/4)"
   ]
  },
  {
   "attachments": {},
   "cell_type": "markdown",
   "metadata": {},
   "source": [
    "# Test optimiser"
   ]
  },
  {
   "cell_type": "code",
   "execution_count": 35,
   "metadata": {},
   "outputs": [
    {
     "name": "stdout",
     "output_type": "stream",
     "text": [
      "Fidelity = 0.9999999999804624\n"
     ]
    }
   ],
   "source": [
    "target_U = sf.utils.random_interferometer(4,real=False)\n",
    "\n",
    "options = {'maxiter':250,\n",
    "          'xatol':0.0001,\n",
    "          'fatol':0.01}\n",
    "method = 'Nelder-Mead'\n",
    "\n",
    "\n",
    "param_guess =[2*np.pi*random.uniform(0,1) for _ in range(22)]\n",
    "\n",
    "res = minimize(cost_func,x0=param_guess,args = (target_U),method='BFGS')\n",
    "\n",
    "U_opt = clements_4_mode(res.x)\n",
    "\n",
    "print(f'Fidelity = {fidelity(target_U,U_opt)}')"
   ]
  },
  {
   "cell_type": "code",
   "execution_count": null,
   "metadata": {},
   "outputs": [],
   "source": [
    "def interferometer(params):\n",
    "\n",
    "    '''Args\n",
    "    params: dict corresponding to values for symbols\n",
    "            '''\n",
    "    U = np.eye(4):\n",
    "\n",
    "    U[0,0] = 0.25*(1-np.exp(1j*params['MZIa1'])*np.exp(1j*params['Pha5'] + 1j*params['Pha1']))*(1 - np.exp(1j*params['MZIa3']))"
   ]
  },
  {
   "cell_type": "code",
   "execution_count": null,
   "metadata": {},
   "outputs": [],
   "source": []
  }
 ],
 "metadata": {
  "kernelspec": {
   "display_name": "base",
   "language": "python",
   "name": "python3"
  },
  "language_info": {
   "codemirror_mode": {
    "name": "ipython",
    "version": 3
   },
   "file_extension": ".py",
   "mimetype": "text/x-python",
   "name": "python",
   "nbconvert_exporter": "python",
   "pygments_lexer": "ipython3",
   "version": "3.9.13"
  },
  "orig_nbformat": 4
 },
 "nbformat": 4,
 "nbformat_minor": 2
}
